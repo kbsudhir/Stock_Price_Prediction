{
 "cells": [
  {
   "cell_type": "code",
   "execution_count": 3,
   "metadata": {},
   "outputs": [],
   "source": [
    "import numpy as np\n",
    "import matplotlib.pyplot as plt\n",
    "import pandas as pd"
   ]
  },
  {
   "cell_type": "code",
   "execution_count": 4,
   "metadata": {},
   "outputs": [],
   "source": [
    "dataframe = pd.read_csv('./HistoricalQuotes_APPLE.csv')"
   ]
  },
  {
   "cell_type": "code",
   "execution_count": 5,
   "metadata": {},
   "outputs": [],
   "source": [
    "dataframe = dataframe.iloc[::-1].reset_index(drop=True)"
   ]
  },
  {
   "cell_type": "code",
   "execution_count": 6,
   "metadata": {},
   "outputs": [],
   "source": [
    "dataframe = dataframe.iloc[:, 3:4].values"
   ]
  },
  {
   "cell_type": "code",
   "execution_count": 7,
   "metadata": {},
   "outputs": [],
   "source": [
    "from sklearn.preprocessing import MinMaxScaler\n",
    "sc = MinMaxScaler(feature_range=(0,1))\n",
    "scaled_price = sc.fit_transform(dataframe)"
   ]
  },
  {
   "cell_type": "code",
   "execution_count": 8,
   "metadata": {},
   "outputs": [],
   "source": [
    "X_train = []\n",
    "y_train = []\n",
    "X_test = []\n",
    "y_test = []\n",
    "time_units = 120\n",
    "test_size = 80 # 4 month data\n",
    "for i in range(time_units, len(scaled_price)-test_size):\n",
    "    X_train.append(scaled_price[i-time_units:i, 0])\n",
    "    y_train.append(scaled_price[i,0])\n",
    "for i in range(len(scaled_price)-test_size, len(scaled_price)):\n",
    "    X_test.append(scaled_price[i-time_units:i, 0])\n",
    "    y_test.append(scaled_price[i,0])\n",
    "\n",
    "X_train, y_train = np.array(X_train), np.array(y_train)\n",
    "X_test, y_test = np.array(X_test), np.array(y_test)"
   ]
  },
  {
   "cell_type": "code",
   "execution_count": 9,
   "metadata": {},
   "outputs": [],
   "source": [
    "X_train = X_train.reshape((X_train.shape[0], X_train.shape[1],1))\n",
    "X_test = X_test.reshape((X_test.shape[0], X_test.shape[1],1))"
   ]
  },
  {
   "cell_type": "code",
   "execution_count": 10,
   "metadata": {},
   "outputs": [],
   "source": [
    "from keras.models import Sequential\n",
    "from keras.layers import LSTM\n",
    "from keras.layers import Dense\n",
    "from keras.layers import Dropout"
   ]
  },
  {
   "cell_type": "code",
   "execution_count": 11,
   "metadata": {},
   "outputs": [],
   "source": [
    "model = Sequential()\n",
    "model.add(LSTM(return_sequences=True, units=60, input_shape=(X_train.shape[1],1)))\n",
    "model.add(Dropout(0.2))\n",
    "model.add(LSTM(return_sequences=True, units=60))\n",
    "model.add(Dropout(0.2))\n",
    "model.add(LSTM(return_sequences=True, units=60))\n",
    "model.add(Dropout(0.2))\n",
    "model.add(LSTM(units=60))\n",
    "model.add(Dropout(0.2))\n",
    "model.add(Dense(units=1))\n",
    "model.compile(loss='mean_squared_error', optimizer='adam')"
   ]
  },
  {
   "cell_type": "code",
   "execution_count": null,
   "metadata": {},
   "outputs": [
    {
     "name": "stdout",
     "output_type": "stream",
     "text": [
      "Epoch 1/100\n",
      "2319/2319 [==============================] - 12s 5ms/step - loss: 0.0192\n",
      "Epoch 2/100\n",
      "2319/2319 [==============================] - 11s 5ms/step - loss: 0.0025\n",
      "Epoch 3/100\n",
      "2319/2319 [==============================] - 11s 5ms/step - loss: 0.0024\n",
      "Epoch 4/100\n",
      "2319/2319 [==============================] - 11s 5ms/step - loss: 0.0022\n",
      "Epoch 5/100\n",
      "2319/2319 [==============================] - 11s 5ms/step - loss: 0.0023\n",
      "Epoch 6/100\n",
      "2319/2319 [==============================] - 11s 5ms/step - loss: 0.0018\n",
      "Epoch 7/100\n",
      "2319/2319 [==============================] - 11s 5ms/step - loss: 0.0018\n",
      "Epoch 8/100\n",
      "2319/2319 [==============================] - 12s 5ms/step - loss: 0.0019\n",
      "Epoch 9/100\n",
      "2319/2319 [==============================] - 12s 5ms/step - loss: 0.0017\n",
      "Epoch 10/100\n",
      "2319/2319 [==============================] - 11s 5ms/step - loss: 0.0017\n",
      "Epoch 11/100\n",
      "2319/2319 [==============================] - 11s 5ms/step - loss: 0.0016\n",
      "Epoch 12/100\n",
      "2319/2319 [==============================] - 11s 5ms/step - loss: 0.0016\n",
      "Epoch 13/100\n",
      "2319/2319 [==============================] - 11s 5ms/step - loss: 0.0016\n",
      "Epoch 14/100\n",
      "2319/2319 [==============================] - 11s 5ms/step - loss: 0.0014\n",
      "Epoch 15/100\n",
      "2319/2319 [==============================] - 11s 5ms/step - loss: 0.0015\n",
      "Epoch 16/100\n",
      "2319/2319 [==============================] - 11s 5ms/step - loss: 0.0013\n",
      "Epoch 17/100\n",
      "2319/2319 [==============================] - 11s 5ms/step - loss: 0.0013\n",
      "Epoch 18/100\n",
      "2319/2319 [==============================] - 11s 5ms/step - loss: 0.0012\n",
      "Epoch 19/100\n",
      "2319/2319 [==============================] - 11s 5ms/step - loss: 0.0012\n",
      "Epoch 20/100\n",
      "2319/2319 [==============================] - 11s 5ms/step - loss: 0.0012\n",
      "Epoch 21/100\n",
      "2319/2319 [==============================] - 11s 5ms/step - loss: 0.0011\n",
      "Epoch 22/100\n",
      "2319/2319 [==============================] - 11s 5ms/step - loss: 0.0012\n",
      "Epoch 23/100\n",
      "2319/2319 [==============================] - 11s 5ms/step - loss: 9.8366e-04\n",
      "Epoch 24/100\n",
      "2319/2319 [==============================] - 11s 5ms/step - loss: 0.0012\n",
      "Epoch 25/100\n",
      "2319/2319 [==============================] - 11s 5ms/step - loss: 0.0011\n",
      "Epoch 26/100\n",
      "2319/2319 [==============================] - 11s 5ms/step - loss: 0.0011\n",
      "Epoch 27/100\n",
      "2319/2319 [==============================] - 11s 5ms/step - loss: 0.0011\n",
      "Epoch 28/100\n",
      "2319/2319 [==============================] - 11s 5ms/step - loss: 0.0011\n",
      "Epoch 29/100\n",
      "2319/2319 [==============================] - 11s 5ms/step - loss: 0.0010\n",
      "Epoch 30/100\n",
      "2319/2319 [==============================] - 11s 5ms/step - loss: 9.5654e-04\n",
      "Epoch 31/100\n",
      "2319/2319 [==============================] - 11s 5ms/step - loss: 9.1840e-04\n",
      "Epoch 32/100\n",
      "2319/2319 [==============================] - 11s 5ms/step - loss: 0.0010\n",
      "Epoch 33/100\n",
      "1824/2319 [======================>.......] - ETA: 2s - loss: 9.7570e-04"
     ]
    }
   ],
   "source": [
    "model.fit(X_train, y_train,batch_size=32, epochs=100)"
   ]
  },
  {
   "cell_type": "code",
   "execution_count": 85,
   "metadata": {},
   "outputs": [],
   "source": [
    "X_test  = X_test.reshape((X_test.shape[0], X_test.shape[1], 1))\n",
    "predicted_price = model.predict(X_test)"
   ]
  },
  {
   "cell_type": "code",
   "execution_count": 86,
   "metadata": {},
   "outputs": [],
   "source": [
    "y_test = y_test.reshape((y_test.shape[0],1))"
   ]
  },
  {
   "cell_type": "code",
   "execution_count": 87,
   "metadata": {},
   "outputs": [
    {
     "data": {
      "image/png": "[encoded data removed]",
      "text/plain": [
       "<matplotlib.figure.Figure at 0x7f58132e0c18>"
      ]
     },
     "metadata": {},
     "output_type": "display_data"
    }
   ],
   "source": [
    "predicted_price = sc.inverse_transform(predicted_price)\n",
    "real_price = sc.inverse_transform(y_test)\n",
    "plt.plot(real_price, color = 'red', label='Real')\n",
    "plt.plot(predicted_price, color = 'green', label = 'predicted')\n",
    "plt.xlabel('Time')\n",
    "plt.ylabel('Price')\n",
    "plt.title('Apple Stock Price')\n",
    "plt.legend()\n",
    "plt.show()"
   ]
  },
  {
   "cell_type": "code",
   "execution_count": 1,
   "metadata": {},
   "outputs": [
    {
     "name": "stderr",
     "output_type": "stream",
     "text": [
      "/usr/local/lib/python3.5/dist-packages/h5py/__init__.py:36: FutureWarning: Conversion of the second argument of issubdtype from `float` to `np.floating` is deprecated. In future, it will be treated as `np.float64 == np.dtype(float).type`.\n",
      "  from ._conv import register_converters as _register_converters\n",
      "Using TensorFlow backend.\n"
     ]
    }
   ],
   "source": [
    "from keras.models import load_model"
   ]
  },
  {
   "cell_type": "code",
   "execution_count": 2,
   "metadata": {},
   "outputs": [
    {
     "ename": "NameError",
     "evalue": "name 'model' is not defined",
     "output_type": "error",
     "traceback": [
      "\u001b[0;31m---------------------------------------------------------------------------\u001b[0m",
      "\u001b[0;31mNameError\u001b[0m                                 Traceback (most recent call last)",
      "\u001b[0;32m<ipython-input-2-2f315367232f>\u001b[0m in \u001b[0;36m<module>\u001b[0;34m()\u001b[0m\n\u001b[0;32m----> 1\u001b[0;31m \u001b[0mmodel\u001b[0m\u001b[0;34m.\u001b[0m\u001b[0msave\u001b[0m\u001b[0;34m(\u001b[0m\u001b[0;34m'abc.h5'\u001b[0m\u001b[0;34m)\u001b[0m\u001b[0;34m\u001b[0m\u001b[0m\n\u001b[0m",
      "\u001b[0;31mNameError\u001b[0m: name 'model' is not defined"
     ]
    }
   ],
   "source": [
    "model.save('abc.h5')"
   ]
  },
  {
   "cell_type": "code",
   "execution_count": null,
   "metadata": {},
   "outputs": [],
   "source": []
  }
 ],
 "metadata": {
  "kernelspec": {
   "display_name": "Python 3",
   "language": "python",
   "name": "python3"
  },
  "language_info": {
   "codemirror_mode": {
    "name": "ipython",
    "version": 3
   },
   "file_extension": ".py",
   "mimetype": "text/x-python",
   "name": "python",
   "nbconvert_exporter": "python",
   "pygments_lexer": "ipython3",
   "version": "3.5.2"
  }
 },
 "nbformat": 4,
 "nbformat_minor": 2
}
